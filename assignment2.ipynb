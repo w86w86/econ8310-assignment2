{
  "nbformat": 4,
  "nbformat_minor": 0,
  "metadata": {
    "colab": {
      "provenance": [],
      "authorship_tag": "ABX9TyOVXS502LeFivrXltpWComq",
      "include_colab_link": true
    },
    "kernelspec": {
      "name": "python3",
      "display_name": "Python 3"
    },
    "language_info": {
      "name": "python"
    }
  },
  "cells": [
    {
      "cell_type": "markdown",
      "metadata": {
        "id": "view-in-github",
        "colab_type": "text"
      },
      "source": [
        "<a href=\"https://colab.research.google.com/github/w86w86/econ8310-assignment2/blob/main/assignment2.ipynb\" target=\"_parent\"><img src=\"https://colab.research.google.com/assets/colab-badge.svg\" alt=\"Open In Colab\"/></a>"
      ]
    },
    {
      "cell_type": "code",
      "source": [
        "!pip install xgboost"
      ],
      "metadata": {
        "id": "TaFKkNnbPkZF"
      },
      "execution_count": null,
      "outputs": []
    },
    {
      "cell_type": "code",
      "execution_count": 42,
      "metadata": {
        "id": "3noNA20dWe6j",
        "colab": {
          "base_uri": "https://localhost:8080/"
        },
        "outputId": "1b69d66d-640f-49d7-ccbd-1fc1b03cb2ba"
      },
      "outputs": [
        {
          "output_type": "stream",
          "name": "stdout",
          "text": [
            "Accuracy score: 88.64%\n",
            "[0, 0, 0, 0, 1, 0, 0, 0, 1, 0, 0, 1, 0, 1, 0, 0, 0, 0, 0, 1, 0, 1, 0, 0, 0, 0, 0, 0, 1, 1, 0, 1, 0, 0, 0, 0, 0, 0, 0, 0, 1, 0, 0, 0, 0, 0, 0, 0, 0, 0, 0, 0, 1, 0, 0, 0, 0, 0, 0, 0, 0, 0, 0, 0, 0, 0, 0, 0, 0, 0, 0, 0, 0, 0, 0, 0, 0, 0, 0, 0, 0, 0, 0, 0, 0, 0, 0, 0, 0, 0, 0, 0, 0, 0, 0, 0, 0, 0, 0, 0, 0, 0, 0, 0, 0, 0, 0, 0, 0, 0, 0, 0, 0, 0, 0, 0, 0, 0, 0, 0, 0, 0, 0, 0, 0, 1, 0, 0, 0, 0, 0, 0, 0, 0, 0, 0, 0, 0, 0, 0, 0, 0, 0, 0, 0, 0, 0, 0, 0, 0, 0, 0, 0, 0, 0, 0, 0, 0, 0, 0, 0, 0, 0, 0, 0, 0, 0, 0, 0, 0, 0, 0, 0, 0, 0, 0, 0, 0, 0, 0, 0, 0, 0, 0, 0, 0, 0, 0, 0, 0, 0, 0, 0, 0, 0, 0, 0, 0, 0, 0, 0, 0, 0, 0, 0, 0, 0, 0, 1, 0, 0, 0, 0, 0, 0, 1, 0, 1, 0, 0, 1, 0, 0, 0, 0, 1, 0, 0, 0, 0, 0, 0, 0, 0, 0, 0, 0, 0, 0, 0, 0, 0, 0, 0, 0, 0, 0, 0, 0, 0, 0, 0, 0, 0, 0, 0, 0, 0, 0, 0, 0, 0, 0, 0, 0, 0, 0, 0, 0, 0, 0, 0, 0, 0, 0, 0, 0, 0, 0, 0, 0, 0, 0, 0, 0, 0, 0, 0, 0, 0, 0, 0, 1, 0, 0, 0, 0, 0, 0, 0, 0, 0, 0, 0, 0, 0, 0, 0, 0, 0, 0, 0, 0, 0, 0, 0, 0, 0, 0, 0, 0, 0, 0, 0, 0, 0, 0, 0, 0, 0, 0, 0, 0, 0, 0, 0, 0, 0, 0, 0, 0, 0, 1, 0, 1, 0, 0, 0, 0, 0, 0, 0, 0, 0, 0, 0, 0, 0, 0, 0, 0, 0, 0, 0, 0, 0, 0, 0, 0, 1, 0, 0, 0, 0, 0, 0, 0, 0, 0, 0, 0, 0, 0, 0, 0, 0, 0, 0, 0, 0, 0, 0, 0, 0, 0, 0, 1, 0, 0, 0, 0, 0, 0, 0, 0, 0, 1, 0, 1, 0, 0, 0, 0, 0, 1, 0, 0, 0, 0, 0, 0, 0, 0, 0, 0, 0, 0, 0, 0, 0, 0, 0, 0, 0, 0, 0, 0, 0, 0, 0, 0, 0, 0, 0, 0, 0, 0, 0, 0, 0, 0, 0, 0, 0, 0, 0, 0, 0, 0, 0, 0, 0, 0, 0, 0, 0, 0, 0, 0, 0, 1, 0, 0, 0, 0, 0, 0, 0, 0, 0, 0, 0, 0, 0, 0, 0, 0, 0, 0, 0, 0, 0, 0, 0, 0, 0, 0, 0, 0, 0, 0, 0, 0, 0, 0, 0, 0, 0, 0, 0, 0, 0, 0, 0, 0, 0, 0, 0, 1, 0, 0, 0, 0, 0, 0, 0, 0, 0, 1, 0, 0, 0, 0, 0, 0, 0, 0, 0, 0, 1, 0, 0, 0, 0, 0, 0, 0, 0, 0, 0, 0, 0, 0, 0, 0, 0, 0, 0, 0, 0, 0, 0, 0, 0, 0, 0, 1, 0, 0, 0, 0, 0, 0, 0, 0, 0, 0, 0, 0, 0, 0, 0, 0, 0, 0, 0, 0, 0, 0, 0, 0, 0, 0, 0, 0, 0, 0, 0, 0, 0, 0, 0, 0, 0, 0, 0, 0, 0, 0, 0, 0, 0, 0, 0, 0, 0, 0, 0, 0, 0, 0, 0, 0, 1, 0, 0, 0, 0, 0, 0, 0, 0, 0, 0, 0, 0, 0, 0, 0, 0, 0, 0, 0, 0, 0, 0, 0, 0, 0, 0, 0, 0, 0, 0, 0, 0, 0, 0, 0, 0, 0, 0, 0, 0, 0, 0, 0, 0, 0, 0, 0, 0, 0, 0, 0, 0, 0, 0, 0, 0, 0, 0, 0, 0, 0, 0, 0, 0, 0, 0, 0, 0, 0, 0, 0, 0, 0, 0, 0, 0, 0, 0, 0, 0, 0, 0, 0, 1, 0, 0, 0, 0, 0, 0, 0, 0, 0, 0, 0, 0, 0, 0, 0, 0, 0, 1, 0, 0, 0, 0, 0, 0, 0, 0, 0, 0, 0, 0, 0, 0, 0, 0, 0, 0, 0, 0, 0, 0, 0, 0, 0, 0, 0, 0, 0, 0, 0, 0, 0, 0, 0, 0, 0, 0, 0, 0, 0, 0, 0, 0, 0, 0, 0, 0, 0, 0, 0, 0, 0, 0, 0, 0, 0, 0, 0, 0, 0, 0, 0, 0, 1, 0, 0, 0, 0, 0, 0, 0, 0, 0, 0, 0, 0, 0, 0, 0, 0, 0, 0, 0, 0, 0, 0, 0, 0, 0, 0, 0, 0, 0, 0, 0, 0, 0, 0, 0, 0, 0, 0, 0, 0, 0, 0, 0, 0, 0, 0, 0, 0, 0, 0, 0, 0, 0, 0, 0, 0, 0, 0, 0, 0, 0, 0, 0, 0, 0, 0, 0, 0, 0, 0, 0, 0, 0, 0, 0, 0, 0, 0, 0, 0, 0, 0, 0, 0, 0, 0, 0, 0, 0, 0, 0, 0, 0, 0, 0, 0, 0, 0, 0, 0, 0, 1, 0, 0, 0, 0, 0, 0, 0, 0, 0, 0, 0, 0, 0, 0, 0, 0, 0, 0, 0, 0, 0, 0, 0, 0, 0, 0, 0, 0, 0, 0, 0, 0, 0, 0, 0, 0, 0, 0, 0, 0, 0, 0, 0, 0, 0, 0, 0, 0, 0, 0, 0, 0, 0, 0, 0, 0, 0, 0, 0, 0, 0, 0, 0, 0, 0, 0, 0, 0, 0, 0, 0, 0, 0, 0, 0, 1, 0, 0, 0, 0, 0, 0, 0, 0, 0, 0, 0, 0, 0, 0, 0, 0, 0, 0, 0, 0, 0, 0, 0, 0, 1, 0, 0, 0, 0, 0, 0]\n"
          ]
        }
      ],
      "source": [
        "import pandas as pd\n",
        "import numpy as np\n",
        "from sklearn.model_selection import train_test_split\n",
        "from sklearn.metrics import accuracy_score\n",
        "\n",
        "data = pd.read_csv(\"https://raw.githubusercontent.com/dustywhite7/Econ8310/master/AssignmentData/assignment3.csv\")\n",
        "\n",
        "data.shape\n",
        "\n",
        "y = data['meal']\n",
        "X = data.drop(['meal','id', 'DateTime'], axis=1)\n",
        "x_train, x_test, y_train, y_test = train_test_split(X, y, test_size=0.1, random_state=42) #with 14K observations, we will take 10% to test your model\n",
        "\n",
        "from xgboost import XGBClassifier\n",
        "model = XGBClassifier(n_estimators=50, max_depth=3, learning_rate=0.5, objective='multi:softmax', num_class=len(y.unique()))\n",
        "modelFit = model.fit(X, y)\n",
        "\n",
        "pred = modelFit.predict(x_test)\n",
        "print(f\"Accuracy score: {accuracy_score(y_test, pred)*100:.2f}%\")\n",
        "\n",
        "testFile = \"https://raw.githubusercontent.com/dustywhite7/Econ8310/master/AssignmentData/assignment3test.csv\"\n",
        "dataTest = pd.read_csv(testFile)\n",
        "X = dataTest.drop(['meal','id', 'DateTime'], axis=1)\n",
        "\n",
        "pred = modelFit.predict(X).tolist()\n",
        "\n",
        "print(pred)"
      ]
    },
    {
      "cell_type": "markdown",
      "source": [
        "##Tests"
      ],
      "metadata": {
        "id": "r5xAHdf2TKyf"
      }
    },
    {
      "cell_type": "code",
      "source": [
        "# testFittedModel.py\n",
        "print(\"testFittedModel.py  |  hasattr(model, '_Booster') \", hasattr(modelFit, '_Booster')) #True (error in the tested file \"ensembles\", report to DrWhite)\n",
        "\n",
        "# testValidModel.py\n",
        "modelType = str(type(model))\n",
        "valid = any(candidate in modelType for candidate in\n",
        "                    ['DecisionTreeClassifier', 'RandomForestClassifier', 'XGBClassifier', 'GradientBoostingClassifier'])\n",
        "print (\"testValidModel.py | \", valid)\n",
        "\n",
        "# testValidPred.py\n",
        "def checkNumbers(series):\n",
        "  for i in series:\n",
        "    if not isinstance(i, (float, int)):\n",
        "      return False\n",
        "    return True\n",
        "\n",
        "valid = len(list(pred))==1000 and checkNumbers(pred)\n",
        "\n",
        "print (\"testValidPred.py | \", valid)\n",
        ""
      ],
      "metadata": {
        "colab": {
          "base_uri": "https://localhost:8080/"
        },
        "id": "6f1TKXnhQtAi",
        "outputId": "86370b60-3958-4530-9997-9449334c9a8d"
      },
      "execution_count": 62,
      "outputs": [
        {
          "output_type": "stream",
          "name": "stdout",
          "text": [
            "testFittedModel.py  |  hasattr(model, '_Booster')  True\n",
            "testValidModel.py |  True\n",
            "testValidPred.py |  True\n"
          ]
        }
      ]
    },
    {
      "cell_type": "code",
      "source": [
        "# # testAccuracy1 / 2 / 3.py\n",
        "\n",
        "def tjurr(truth, pred):\n",
        "    truth = list(truth)\n",
        "    pred = list(pred)\n",
        "    y1 = np.mean([y for x, y in enumerate(pred) if truth[x]==1])\n",
        "    y2 = np.mean([y for x, y in enumerate(pred) if truth[x]==0])\n",
        "    return y1-y2\n",
        "\n",
        "truth = pd.read_csv(\"testData.csv\")['meal']\n",
        "\n",
        "# testAccuracy1.py\n",
        "valid = tjurr(truth, pred)>0.05\n",
        "print(\"testAccuracy1.py | tjurr(truth, pred)>0.05 : \", valid)\n",
        "\n",
        "\n",
        "# testAccuracy2.py\n",
        "valid = tjurr(truth, pred)>0.12\n",
        "print(\"testAccuracy2.py | tjurr(truth, pred)>0.12 : \", valid)\n",
        "\n",
        "# testAccuracy3.py\n",
        "valid = tjurr(truth, pred)>0.2\n",
        "print(\"testAccuracy3.py | tjurr(truth, pred)>0.2 : \", valid)"
      ],
      "metadata": {
        "colab": {
          "base_uri": "https://localhost:8080/"
        },
        "id": "GnuAy-75W_J3",
        "outputId": "e0e8b035-6272-4e25-9eee-7c386483a7b6"
      },
      "execution_count": 68,
      "outputs": [
        {
          "output_type": "stream",
          "name": "stdout",
          "text": [
            "testAccuracy1.py | tjurr(truth, pred)>0.05 :  True\n",
            "testAccuracy2.py | tjurr(truth, pred)>0.12 :  True\n",
            "testAccuracy2.py | tjurr(truth, pred)>0.2 :  False\n"
          ]
        }
      ]
    }
  ]
}