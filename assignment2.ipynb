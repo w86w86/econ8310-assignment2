{
  "nbformat": 4,
  "nbformat_minor": 0,
  "metadata": {
    "colab": {
      "provenance": [],
      "authorship_tag": "ABX9TyMutzuPEcL/psWHwFOwM4PD",
      "include_colab_link": true
    },
    "kernelspec": {
      "name": "python3",
      "display_name": "Python 3"
    },
    "language_info": {
      "name": "python"
    }
  },
  "cells": [
    {
      "cell_type": "markdown",
      "metadata": {
        "id": "view-in-github",
        "colab_type": "text"
      },
      "source": [
        "<a href=\"https://colab.research.google.com/github/w86w86/econ8310-assignment2/blob/main/assignment2.ipynb\" target=\"_parent\"><img src=\"https://colab.research.google.com/assets/colab-badge.svg\" alt=\"Open In Colab\"/></a>"
      ]
    },
    {
      "cell_type": "code",
      "source": [
        "!pip install xgboost"
      ],
      "metadata": {
        "id": "TaFKkNnbPkZF"
      },
      "execution_count": null,
      "outputs": []
    },
    {
      "cell_type": "code",
      "execution_count": 79,
      "metadata": {
        "id": "3noNA20dWe6j",
        "colab": {
          "base_uri": "https://localhost:8080/"
        },
        "outputId": "0810a6b1-903f-4a4c-b5ce-7d52879b5b28"
      },
      "outputs": [
        {
          "output_type": "stream",
          "name": "stdout",
          "text": [
            "Accuracy score: 88.36%\n",
            "[0, 0, 0, 0, 0, 0, 0, 0, 0, 0, 0, 1, 0, 1, 0, 0, 0, 0, 0, 1, 0, 1, 0, 0, 1, 0, 0, 0, 1, 1, 0, 0, 0, 0, 0, 0, 0, 0, 0, 0, 1, 0, 0, 0, 0, 0, 0, 0, 0, 0, 0, 0, 1, 0, 0, 0, 0, 0, 0, 0, 0, 0, 0, 0, 0, 0, 0, 0, 0, 0, 0, 0, 0, 0, 0, 0, 0, 0, 0, 0, 0, 0, 0, 0, 0, 0, 0, 0, 0, 0, 0, 1, 0, 0, 0, 0, 0, 0, 0, 0, 0, 0, 0, 0, 0, 0, 0, 0, 0, 0, 0, 0, 0, 0, 0, 0, 0, 0, 0, 0, 0, 0, 0, 0, 0, 0, 0, 0, 0, 0, 0, 0, 0, 0, 0, 0, 0, 0, 0, 0, 0, 0, 0, 0, 0, 0, 0, 0, 0, 0, 1, 0, 0, 0, 0, 0, 0, 0, 0, 0, 0, 0, 0, 0, 0, 0, 0, 0, 0, 1, 0, 0, 0, 0, 0, 0, 0, 0, 0, 1, 0, 0, 0, 0, 0, 0, 0, 0, 0, 1, 0, 0, 0, 0, 0, 0, 0, 0, 0, 0, 1, 0, 0, 0, 0, 0, 0, 0, 1, 0, 0, 0, 0, 1, 0, 1, 0, 1, 0, 0, 1, 0, 0, 0, 0, 1, 0, 0, 0, 0, 0, 0, 0, 0, 0, 0, 0, 0, 0, 0, 0, 0, 0, 0, 0, 0, 0, 0, 0, 0, 0, 0, 0, 0, 0, 0, 0, 0, 0, 0, 0, 0, 0, 0, 0, 0, 0, 0, 0, 0, 0, 0, 0, 0, 0, 0, 0, 0, 0, 0, 0, 0, 0, 1, 0, 0, 0, 0, 0, 0, 0, 0, 1, 0, 0, 0, 0, 0, 0, 0, 0, 0, 0, 0, 0, 0, 0, 0, 0, 0, 0, 0, 0, 0, 1, 0, 0, 0, 1, 0, 0, 0, 0, 0, 0, 0, 0, 0, 0, 0, 0, 0, 0, 0, 0, 0, 0, 0, 0, 0, 0, 0, 1, 0, 1, 0, 0, 0, 0, 0, 0, 0, 1, 0, 0, 0, 0, 0, 0, 0, 0, 0, 0, 0, 0, 0, 0, 0, 0, 0, 0, 0, 0, 0, 0, 0, 0, 0, 0, 0, 0, 0, 0, 0, 0, 0, 0, 0, 0, 0, 0, 0, 0, 0, 0, 0, 1, 1, 0, 0, 0, 0, 0, 1, 0, 0, 1, 0, 1, 0, 0, 0, 0, 0, 1, 0, 0, 0, 0, 0, 0, 0, 0, 0, 0, 0, 0, 0, 0, 0, 0, 0, 0, 0, 0, 0, 0, 0, 0, 0, 0, 0, 0, 0, 0, 0, 0, 0, 0, 0, 0, 0, 0, 0, 0, 0, 0, 0, 0, 0, 0, 0, 0, 0, 0, 0, 0, 0, 0, 0, 1, 0, 0, 1, 0, 0, 0, 0, 0, 0, 0, 0, 0, 0, 0, 0, 0, 0, 0, 0, 0, 0, 0, 0, 0, 0, 0, 0, 0, 0, 0, 0, 0, 0, 0, 0, 0, 0, 0, 0, 0, 0, 0, 0, 0, 0, 0, 0, 0, 0, 0, 0, 0, 0, 0, 0, 0, 0, 1, 0, 0, 0, 0, 0, 0, 0, 0, 0, 0, 1, 0, 0, 0, 0, 0, 0, 0, 0, 0, 0, 0, 0, 0, 0, 0, 0, 0, 0, 0, 0, 0, 0, 0, 0, 0, 0, 1, 0, 0, 0, 0, 0, 0, 0, 0, 0, 0, 0, 0, 0, 0, 0, 0, 0, 0, 0, 0, 0, 0, 0, 0, 0, 0, 0, 0, 0, 0, 0, 0, 0, 0, 0, 0, 0, 0, 0, 0, 0, 0, 0, 1, 0, 0, 0, 0, 0, 0, 0, 0, 0, 0, 0, 0, 1, 0, 0, 0, 0, 0, 0, 0, 0, 0, 0, 0, 0, 0, 0, 1, 0, 0, 0, 0, 0, 0, 0, 0, 0, 0, 0, 0, 0, 0, 0, 0, 0, 0, 0, 0, 0, 0, 0, 0, 0, 0, 0, 0, 0, 0, 0, 0, 0, 0, 0, 0, 0, 0, 0, 0, 0, 0, 0, 0, 0, 0, 0, 0, 0, 0, 0, 0, 0, 0, 0, 0, 0, 0, 0, 0, 0, 0, 0, 0, 0, 1, 0, 0, 0, 0, 0, 0, 0, 0, 0, 0, 0, 0, 0, 0, 0, 0, 0, 0, 0, 0, 1, 0, 0, 0, 0, 0, 0, 0, 0, 0, 0, 0, 0, 0, 0, 0, 0, 0, 0, 0, 0, 0, 0, 0, 0, 0, 0, 0, 0, 0, 0, 0, 0, 0, 0, 0, 0, 0, 0, 0, 0, 0, 0, 0, 0, 0, 0, 0, 0, 0, 0, 0, 0, 0, 0, 0, 0, 0, 0, 0, 0, 0, 0, 0, 0, 1, 0, 0, 0, 0, 0, 0, 0, 0, 0, 0, 0, 0, 0, 0, 0, 0, 0, 0, 0, 0, 0, 0, 0, 0, 0, 0, 0, 0, 0, 0, 0, 0, 0, 0, 0, 0, 0, 0, 0, 0, 0, 0, 0, 0, 0, 0, 0, 0, 0, 0, 0, 0, 0, 0, 0, 0, 0, 0, 0, 0, 0, 0, 0, 0, 0, 0, 0, 0, 0, 0, 0, 0, 0, 0, 0, 0, 0, 0, 0, 0, 0, 0, 0, 0, 0, 0, 0, 0, 0, 0, 0, 0, 0, 0, 0, 0, 0, 0, 0, 0, 0, 0, 0, 0, 0, 0, 0, 0, 0, 0, 0, 0, 0, 0, 0, 0, 0, 0, 0, 0, 0, 0, 0, 0, 0, 0, 0, 0, 0, 0, 0, 0, 0, 0, 0, 0, 0, 0, 0, 0, 0, 0, 0, 0, 0, 0, 0, 0, 0, 0, 0, 0, 0, 0, 0, 0, 0, 0, 0, 0, 0, 0, 0, 0, 0, 0, 0, 0, 0, 0, 0, 0, 0, 0, 0, 0, 0, 1, 0, 0, 0, 0, 0, 0, 0, 0, 0, 0, 0, 0, 0, 0, 0, 0, 0, 0, 0, 0, 0, 0, 0, 0, 1, 0, 0, 0, 0, 0, 0]\n"
          ]
        }
      ],
      "source": [
        "import pandas as pd\n",
        "import numpy as np\n",
        "from sklearn.model_selection import train_test_split\n",
        "from sklearn.metrics import accuracy_score\n",
        "\n",
        "data = pd.read_csv(\"https://raw.githubusercontent.com/dustywhite7/Econ8310/master/AssignmentData/assignment3.csv\")\n",
        "\n",
        "# Convert 'DateTime' to datetime objects and extract features\n",
        "data['DateTime'] = pd.to_datetime(data['DateTime'])\n",
        "\"\"\"\n",
        "data['year'] = data['DateTime'].dt.year\n",
        "data['month'] = data['DateTime'].dt.month\n",
        "data['day'] = data['DateTime'].dt.day\n",
        "data['hour'] = data['DateTime'].dt.hour\n",
        "data['dayofweek'] = data['DateTime'].dt.dayofweek\n",
        "\n",
        "# Create 'weekday' and 'weekend' features\n",
        "data['weekday'] = data['dayofweek'].apply(lambda x: 1 if x < 5 else 0)\n",
        "data['weekend'] = data['dayofweek'].apply(lambda x: 1 if x >= 5 else 0)\n",
        "\n",
        "# Drop original 'DateTime' and 'dayofweek'\n",
        "data = data.drop(['DateTime', 'dayofweek', 'id'], axis=1)\n",
        "\"\"\"\n",
        "data = data.drop(['DateTime', 'id'], axis=1)\n",
        "\n",
        "\n",
        "y = data['meal']\n",
        "X = data.drop('meal', axis=1)\n",
        "x_train, x_test, y_train, y_test = train_test_split(X, y, test_size=0.1, random_state=42)\n",
        "\n",
        "from xgboost import XGBClassifier\n",
        "model = XGBClassifier(n_estimators=50, max_depth=3, learning_rate=0.5, objective='multi:softmax', num_class=len(y.unique()))\n",
        "modelFit = model.fit(x_train, y_train)\n",
        "\n",
        "pred_y = modelFit.predict(x_test)\n",
        "print(f\"Accuracy score: {accuracy_score(y_test, pred_y)*100:.2f}%\")\n",
        "\n",
        "testFile = \"https://raw.githubusercontent.com/dustywhite7/Econ8310/master/AssignmentData/assignment3test.csv\"\n",
        "dataTest = pd.read_csv(testFile)\n",
        "\n",
        "# Apply the same feature engineering to the test data\n",
        "dataTest['DateTime'] = pd.to_datetime(dataTest['DateTime'])\n",
        "\"\"\"\n",
        "dataTest['year'] = dataTest['DateTime'].dt.year\n",
        "dataTest['month'] = dataTest['DateTime'].dt.month\n",
        "dataTest['day'] = dataTest['DateTime'].dt.day\n",
        "dataTest['hour'] = dataTest['DateTime'].dt.hour\n",
        "dataTest['dayofweek'] = dataTest['DateTime'].dt.dayofweek\n",
        "\n",
        "dataTest['weekday'] = dataTest['dayofweek'].apply(lambda x: 1 if x < 5 else 0)\n",
        "dataTest['weekend'] = dataTest['dayofweek'].apply(lambda x: 1 if x >= 5 else 0)\n",
        "\n",
        "dataTest = dataTest.drop(['DateTime', 'dayofweek', 'id', 'meal'], axis=1) # Drop 'meal' from test data\n",
        "\"\"\"\n",
        "dataTest = dataTest.drop(['DateTime', 'id', 'meal'], axis=1) # Drop 'meal' from test data\n",
        "\n",
        "X_test_final = dataTest\n",
        "\n",
        "pred = modelFit.predict(X_test_final).tolist()\n",
        "\n",
        "print(pred)"
      ]
    },
    {
      "cell_type": "code",
      "source": [
        "# This cell is no longer needed as the feature engineering is done in cell 3noNA20dWe6j\n",
        "# It can be removed or left empty."
      ],
      "metadata": {
        "id": "VZxaz_YTelrq"
      },
      "execution_count": null,
      "outputs": []
    },
    {
      "cell_type": "markdown",
      "source": [
        "##Tests"
      ],
      "metadata": {
        "id": "r5xAHdf2TKyf"
      }
    },
    {
      "cell_type": "code",
      "source": [
        "# testValidModel.py\n",
        "modelType = str(type(model))\n",
        "print (\"modelType: \", modelType)\n",
        "valid = any(candidate in modelType for candidate in\n",
        "                    ['DecisionTreeClassifier', 'RandomForestClassifier', 'XGBClassifier', 'GradientBoostingClassifier'])\n",
        "print (\"testValidModel.py | \", valid)\n",
        "\n",
        "\n",
        "# testFittedModel.py\n",
        "print(\"testFittedModel.py  |  hasattr(model, '_Booster') \", hasattr(modelFit, '_Booster')) #True (error in the tested file \"ensembles\", report to DrWhite)\n",
        "\n",
        "\n",
        "# testValidPred.py\n",
        "def checkNumbers(series):\n",
        "  for i in series:\n",
        "    if not isinstance(i, (float, int)):\n",
        "      return False\n",
        "    return True\n",
        "\n",
        "valid = len(list(pred))==1000 and checkNumbers(pred)\n",
        "\n",
        "print (\"testValidPred.py | \", valid)\n",
        "\n",
        "\n",
        "# # testAccuracy1 / 2 / 3.py\n",
        "\n",
        "def tjurr(truth, pred):\n",
        "    truth = list(truth)\n",
        "    pred = list(pred)\n",
        "    y1 = np.mean([y for x, y in enumerate(pred) if truth[x]==1])\n",
        "    y2 = np.mean([y for x, y in enumerate(pred) if truth[x]==0])\n",
        "    return y1-y2\n",
        "\n",
        "truth = pd.read_csv(\"testData.csv\")['meal']\n",
        "\n",
        "# testAccuracy1.py\n",
        "valid = tjurr(truth, pred)>0.05\n",
        "print(\"testAccuracy1.py | tjurr(truth, pred)>0.05 : \", valid)\n",
        "\n",
        "\n",
        "# testAccuracy2.py\n",
        "valid = tjurr(truth, pred)>0.12\n",
        "print(\"testAccuracy2.py | tjurr(truth, pred)>0.12 : \", valid)\n",
        "\n",
        "# testAccuracy3.py\n",
        "valid = tjurr(truth, pred)>0.2\n",
        "print(\"testAccuracy3.py | tjurr(truth, pred)>0.2 : \", valid)"
      ],
      "metadata": {
        "colab": {
          "base_uri": "https://localhost:8080/"
        },
        "id": "6f1TKXnhQtAi",
        "outputId": "439aa32f-b94b-48d8-8a24-c99fa3aa5069"
      },
      "execution_count": 82,
      "outputs": [
        {
          "output_type": "stream",
          "name": "stdout",
          "text": [
            "modelType:  <class 'xgboost.sklearn.XGBClassifier'>\n",
            "testValidModel.py |  True\n",
            "testFittedModel.py  |  hasattr(model, '_Booster')  True\n",
            "testValidPred.py |  True\n",
            "testAccuracy1.py | tjurr(truth, pred)>0.05 :  True\n",
            "testAccuracy2.py | tjurr(truth, pred)>0.12 :  True\n",
            "testAccuracy3.py | tjurr(truth, pred)>0.2 :  True\n"
          ]
        }
      ]
    }
  ]
}